{
 "cells": [
  {
   "cell_type": "markdown",
   "id": "eb03e2d5-1be2-4e12-9b15-3047c5ab122d",
   "metadata": {},
   "source": [
    "# Variables"
   ]
  },
  {
   "cell_type": "markdown",
   "id": "ee3a8d80-7f53-4131-9535-f9fc3a7cfbff",
   "metadata": {},
   "source": [
    "## Use variables to store values."
   ]
  },
  {
   "cell_type": "code",
   "execution_count": 1,
   "id": "86a43512-5e16-4b40-ba5a-dea17e37933a",
   "metadata": {},
   "outputs": [],
   "source": [
    "age = 42\n",
    "first_name = 'Ahmed'"
   ]
  },
  {
   "cell_type": "markdown",
   "id": "3487c1d3-64f0-4865-a9da-692ac17f9724",
   "metadata": {},
   "source": [
    "Variable names\n",
    "* can only contain letters, digits, and underscore _ (typically used to separate words in long variable names)\n",
    "* cannot start with a digit\n",
    "* are case sensitive (age, Age and AGE are three different variables)\n",
    "\n",
    "Variable names that start with underscores like __alistairs_real_age have a special meaning so we won’t do that until we understand the convention."
   ]
  },
  {
   "cell_type": "markdown",
   "id": "d385676c-2707-4c07-a540-08d94f1992ca",
   "metadata": {},
   "source": [
    "## Use print to display values"
   ]
  },
  {
   "cell_type": "code",
   "execution_count": 2,
   "id": "b1b6db75-aab9-448a-a049-49ab60d9e624",
   "metadata": {},
   "outputs": [
    {
     "name": "stdout",
     "output_type": "stream",
     "text": [
      "Ahmed is 42 years old\n"
     ]
    }
   ],
   "source": [
    "print(first_name, 'is', age, 'years old')"
   ]
  },
  {
   "cell_type": "markdown",
   "id": "c0ed57bc-0af8-4b49-94e7-238e9b8b8571",
   "metadata": {},
   "source": [
    "* print automatically puts a single space between items to separate them.\n",
    "* And wraps around to a new line at the end."
   ]
  },
  {
   "cell_type": "markdown",
   "id": "9c5ab1a6-28b3-41ff-a78d-570172c50ab9",
   "metadata": {},
   "source": [
    "## Variables must be created before they are used"
   ]
  },
  {
   "cell_type": "code",
   "execution_count": null,
   "id": "e0d22337-5610-488a-9a09-e36a5a3cb963",
   "metadata": {},
   "outputs": [],
   "source": []
  }
 ],
 "metadata": {
  "kernelspec": {
   "display_name": "Python [conda env:root] *",
   "language": "python",
   "name": "conda-root-py"
  },
  "language_info": {
   "codemirror_mode": {
    "name": "ipython",
    "version": 3
   },
   "file_extension": ".py",
   "mimetype": "text/x-python",
   "name": "python",
   "nbconvert_exporter": "python",
   "pygments_lexer": "ipython3",
   "version": "3.8.12"
  },
  "toc-autonumbering": true,
  "toc-showcode": false,
  "toc-showmarkdowntxt": false,
  "toc-showtags": false
 },
 "nbformat": 4,
 "nbformat_minor": 5
}
