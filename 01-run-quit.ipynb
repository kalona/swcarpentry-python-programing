{
 "cells": [
  {
   "cell_type": "markdown",
   "id": "d194d093-54f1-41bb-95ad-ea5d8e0ade4f",
   "metadata": {},
   "source": [
    "### Use JupyterLab notebooks"
   ]
  },
  {
   "cell_type": "markdown",
   "id": "d9696f16-9332-4017-a1c5-85b9fd64b101",
   "metadata": {},
   "source": [
    "#### Use Markdown"
   ]
  },
  {
   "cell_type": "markdown",
   "id": "9e821e27-5571-45ce-ae2a-b872763eacbf",
   "metadata": {},
   "source": [
    "* Use asterisks \n",
    "* to create \n",
    "* bullet lists"
   ]
  },
  {
   "cell_type": "markdown",
   "id": "a5e16fab-b026-4c94-9b3a-695385c70d4e",
   "metadata": {},
   "source": [
    "1. Use numbers\n",
    "1. to create\n",
    "1. numbered lists"
   ]
  },
  {
   "cell_type": "markdown",
   "id": "926429e2-1ef2-44ee-8ae5-9d97d63b68e1",
   "metadata": {},
   "source": [
    "* You can use indents\n",
    "    * To create sublists\n",
    "    * of the same type\n",
    "* Or sublists\n",
    "    1. Of different\n",
    "    1. types"
   ]
  },
  {
   "cell_type": "markdown",
   "id": "c5b3ec7e-0293-4640-a2e5-3540f55f9101",
   "metadata": {},
   "source": [
    "# A Level-1 Heading"
   ]
  },
  {
   "cell_type": "markdown",
   "id": "214b5053-372d-478e-8184-4e16fa9b9801",
   "metadata": {},
   "source": [
    "## A Level-2 Heading"
   ]
  },
  {
   "cell_type": "markdown",
   "id": "33c67bb4-d97f-4eee-9c76-a0631baf2252",
   "metadata": {},
   "source": [
    "Line breaks\n",
    "don't matter.\n",
    "\n",
    "But blank lines\n",
    "create new paragraphs."
   ]
  },
  {
   "cell_type": "markdown",
   "id": "07d4061f-e09b-4455-9bd6-915b3fdaa67a",
   "metadata": {},
   "source": [
    "[Create links](http://software-carpentry.org) with `[...](...)`.\n",
    "Or use [named links][data_carpentry].\n",
    "\n",
    "[data_carpentry]: http://datacarpentry.org"
   ]
  },
  {
   "cell_type": "markdown",
   "id": "6fbfdb34-98ff-4da8-8191-859f03a6ec11",
   "metadata": {},
   "source": [
    "1. Get funding\n",
    "1. Do work\n",
    "    * Design experiment\n",
    "    * Collect Data\n",
    "    * Analyze\n",
    "1. Write up\n",
    "1. Publish"
   ]
  },
  {
   "cell_type": "markdown",
   "id": "74e9e92c-1150-4be6-9e6f-266a9b8a682f",
   "metadata": {},
   "source": [
    "x = 6 * 7 + 12\n",
    "print(x)"
   ]
  },
  {
   "cell_type": "code",
   "execution_count": null,
   "id": "6ab882fc-c51f-47b7-b04d-0db7de8d4b44",
   "metadata": {},
   "outputs": [],
   "source": []
  }
 ],
 "metadata": {
  "kernelspec": {
   "display_name": "Python [conda env:root] *",
   "language": "python",
   "name": "conda-root-py"
  },
  "language_info": {
   "codemirror_mode": {
    "name": "ipython",
    "version": 3
   },
   "file_extension": ".py",
   "mimetype": "text/x-python",
   "name": "python",
   "nbconvert_exporter": "python",
   "pygments_lexer": "ipython3",
   "version": "3.8.12"
  }
 },
 "nbformat": 4,
 "nbformat_minor": 5
}
